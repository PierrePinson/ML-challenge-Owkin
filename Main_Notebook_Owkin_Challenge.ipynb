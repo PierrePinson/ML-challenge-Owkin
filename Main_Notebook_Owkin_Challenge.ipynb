{
  "nbformat": 4,
  "nbformat_minor": 0,
  "metadata": {
    "colab": {
      "name": "Main Notebook Owkin Challenge.ipynb",
      "provenance": [],
      "collapsed_sections": [
        "rMfi6djK6NoJ",
        "TBf3ngBpwJKs",
        "FVCg4BEF_tTO",
        "S0Vq16K9WC9u",
        "RXAH2RmJ6WHl"
      ],
      "authorship_tag": "ABX9TyM40c4XCZqcaL24CGj6tyFA",
      "include_colab_link": true
    },
    "kernelspec": {
      "name": "python3",
      "display_name": "Python 3"
    },
    "accelerator": "GPU"
  },
  "cells": [
    {
      "cell_type": "markdown",
      "metadata": {
        "id": "view-in-github",
        "colab_type": "text"
      },
      "source": [
        "<a href=\"https://colab.research.google.com/github/PierrePinson/ML-challenge-Owkin/blob/master/Main_Notebook_Owkin_Challenge.ipynb\" target=\"_parent\"><img src=\"https://colab.research.google.com/assets/colab-badge.svg\" alt=\"Open In Colab\"/></a>"
      ]
    },
    {
      "cell_type": "code",
      "metadata": {
        "id": "jEwYF2QwqQHe",
        "colab_type": "code",
        "outputId": "14e51b6a-80ef-4f62-99bb-dbd0a9bfb8c1",
        "colab": {
          "base_uri": "https://localhost:8080/",
          "height": 121
        }
      },
      "source": [
        "#give access to GDrive\n",
        "from google.colab import drive\n",
        "drive.mount('/content/gdrive/')"
      ],
      "execution_count": 2,
      "outputs": [
        {
          "output_type": "stream",
          "text": [
            "Go to this URL in a browser: https://accounts.google.com/o/oauth2/auth?client_id=947318989803-6bn6qk8qdgf4n4g3pfee6491hc0brc4i.apps.googleusercontent.com&redirect_uri=urn%3aietf%3awg%3aoauth%3a2.0%3aoob&response_type=code&scope=email%20https%3a%2f%2fwww.googleapis.com%2fauth%2fdocs.test%20https%3a%2f%2fwww.googleapis.com%2fauth%2fdrive%20https%3a%2f%2fwww.googleapis.com%2fauth%2fdrive.photos.readonly%20https%3a%2f%2fwww.googleapis.com%2fauth%2fpeopleapi.readonly\n",
            "\n",
            "Enter your authorization code:\n",
            "··········\n",
            "Mounted at /content/gdrive/\n"
          ],
          "name": "stdout"
        }
      ]
    },
    {
      "cell_type": "markdown",
      "metadata": {
        "id": "a7Az2BAJp3qF",
        "colab_type": "text"
      },
      "source": [
        "### Installs and imports"
      ]
    },
    {
      "cell_type": "code",
      "metadata": {
        "id": "phftTOgN6uh0",
        "colab_type": "code",
        "colab": {}
      },
      "source": [
        "#Clone git, might take a minute cause data is included\n",
        "#uncomment the lines below for first use\n",
        "#%cd /content/gdrive/My Drive/\n",
        "#! git clone https://github.com/PierrePinson/ML-challenge-Owkin.git\n",
        "\n",
        "%cd /content/gdrive/My Drive/ML-challenge-Owkin/\n",
        "!git pull #update custom modules\n",
        "\n",
        "!pip install lifelines\n",
        "!pip install random-survival-forest\n",
        "!pip install pysurvival\n",
        "!pip install lasagne\n",
        "!pip install --upgrade https://github.com/Theano/Theano/archive/master.zip\n",
        "!pip install --upgrade https://github.com/Lasagne/Lasagne/archive/master.zip\n",
        "#!git clone https://github.com/jaredleekatzman/DeepSurv.git\n",
        "\n",
        "#print time elapsed at each cell execution\n",
        "!pip install ipython-autotime\n",
        "%load_ext autotime \n",
        "\n",
        "%cd DeepSurv\n",
        "!pip install .\n",
        "%cd /content/gdrive/My Drive/ML-challenge-Owkin/"
      ],
      "execution_count": 0,
      "outputs": []
    },
    {
      "cell_type": "code",
      "metadata": {
        "id": "-Jyuq7_qm2cX",
        "colab_type": "code",
        "outputId": "063b2efe-b64a-401e-ada7-c28fb6a600ea",
        "colab": {
          "base_uri": "https://localhost:8080/",
          "height": 34
        }
      },
      "source": [
        "import numpy as np\n",
        "import matplotlib.pyplot as plt\n",
        "import os\n",
        "import pandas as pd\n",
        "import extract_features as ef #module to extract features from dataset\n",
        "import lifelines #python library for survival analysis\n",
        "from importlib import reload #reload extract_features when changes are made in git\n",
        "from sklearn.model_selection import train_test_split\n",
        "from lifelines.utils import concordance_index\n",
        "import sys\n",
        "sys.path.append('/content/gdrive/My Drive/ML-challenge-Owkin/DeepSurv/deepsurv')\n",
        "import deep_surv\n",
        "from deepsurv_logger import DeepSurvLogger, TensorboardLogger\n",
        "import utils\n",
        "import viz\n",
        "import lasagne\n",
        "reload(ef)"
      ],
      "execution_count": 40,
      "outputs": [
        {
          "output_type": "execute_result",
          "data": {
            "text/plain": [
              "<module 'extract_features' from '/content/gdrive/My Drive/ML-challenge-Owkin/extract_features.py'>"
            ]
          },
          "metadata": {
            "tags": []
          },
          "execution_count": 40
        },
        {
          "output_type": "stream",
          "text": [
            "time: 11.5 ms\n"
          ],
          "name": "stdout"
        }
      ]
    },
    {
      "cell_type": "markdown",
      "metadata": {
        "id": "wQ6Ymv6vv8pb",
        "colab_type": "text"
      },
      "source": [
        "#Get data\n"
      ]
    },
    {
      "cell_type": "code",
      "metadata": {
        "id": "G2o3GAVRknwc",
        "colab_type": "code",
        "outputId": "ff661b27-b117-455e-b981-8f6fe04b436e",
        "colab": {
          "base_uri": "https://localhost:8080/",
          "height": 101
        }
      },
      "source": [
        "X0 = ef.extract_features('x_train/').drop([\"PatientID\"], axis=1)\n",
        "Y0 = pd.read_csv('output_VSVxRFU.csv').drop(\"PatientID\", axis=1)\n",
        "#Split data in train and validation sets: \n",
        "x_train, x_val, y_train, y_val = train_test_split(X0, Y0, test_size=0.15)\n",
        "x_test = ef.extract_features('x_test/')\n",
        "PatientID = x_test.PatientID.to_frame()\n",
        "x_test = x_test.drop(\"PatientID\", axis=1)"
      ],
      "execution_count": 59,
      "outputs": [
        {
          "output_type": "stream",
          "text": [
            "/content/gdrive/My Drive/ML-challenge-Owkin/extract_features.py:17: SettingWithCopyWarning: \n",
            "A value is trying to be set on a copy of a slice from a DataFrame\n",
            "\n",
            "See the caveats in the documentation: http://pandas.pydata.org/pandas-docs/stable/user_guide/indexing.html#returning-a-view-versus-a-copy\n"
          ],
          "name": "stderr"
        },
        {
          "output_type": "stream",
          "text": [
            "time: 1.84 s\n"
          ],
          "name": "stdout"
        }
      ]
    },
    {
      "cell_type": "markdown",
      "metadata": {
        "id": "rMfi6djK6NoJ",
        "colab_type": "text"
      },
      "source": [
        "#Compare Models"
      ]
    },
    {
      "cell_type": "markdown",
      "metadata": {
        "id": "TBf3ngBpwJKs",
        "colab_type": "text"
      },
      "source": [
        "##Methode 1: Classic Random Forest"
      ]
    },
    {
      "cell_type": "code",
      "metadata": {
        "id": "m_R8S6WsqGuo",
        "colab_type": "code",
        "outputId": "cdd26533-63a7-49d7-903b-010ace8783bf",
        "colab": {
          "base_uri": "https://localhost:8080/",
          "height": 50
        }
      },
      "source": [
        "#train\n",
        "from sklearn.ensemble import RandomForestClassifier\n",
        "clf = RandomForestClassifier()\n",
        "clf.fit(x_train, y_train)\n",
        "\n",
        "rf_predictions = clf.predict(x_val)\n",
        "print(\"C_index: \"+str(concordance_index(y_val.SurvivalTime, rf_predictions[:,0], y_val.Event)))"
      ],
      "execution_count": 13,
      "outputs": [
        {
          "output_type": "stream",
          "text": [
            "C_index: 0.5559105431309904\n",
            "time: 859 ms\n"
          ],
          "name": "stdout"
        }
      ]
    },
    {
      "cell_type": "markdown",
      "metadata": {
        "id": "RXAH2RmJ6WHl",
        "colab_type": "text"
      },
      "source": [
        "## Method 4: Lifelines (Cox model)"
      ]
    },
    {
      "cell_type": "code",
      "metadata": {
        "id": "5uaS-pOD_MSH",
        "colab_type": "code",
        "outputId": "c5a0671a-c916-4491-b3ca-00c2d47e1b99",
        "colab": {
          "base_uri": "https://localhost:8080/",
          "height": 235
        }
      },
      "source": [
        "#reduce number of feaure to avoid collinearities\n",
        "nc_x_train = ef.calculate_vif_(x_train, thresh=20) \n",
        "non_collinear_features = x_train.keys()\n",
        "##Other method : use PCA to reduce features\n",
        "#from sklearn.decomposition import PCA\n",
        "#n_components = 17 #empirical optimal value \n",
        "\n",
        "#pca = PCA(n_components=n_components)\n",
        "#pca.fit(x_train.T)\n",
        "#nc_x_train = pd.DataFrame(data = pca.components_.T)"
      ],
      "execution_count": 10,
      "outputs": [
        {
          "output_type": "stream",
          "text": [
            "Remaining variables:\n",
            "Index(['original_shape_Compactness2', 'original_shape_Maximum3DDiameter',\n",
            "       'original_shape_SurfaceVolumeRatio', 'original_firstorder_Energy',\n",
            "       'original_firstorder_Kurtosis', 'original_firstorder_Median',\n",
            "       'original_firstorder_Skewness', 'original_glcm_ClusterProminence',\n",
            "       'original_glcm_ClusterShade', 'original_glcm_Contrast',\n",
            "       'original_glcm_JointEnergy', 'original_glrlm_GrayLevelNonUniformity',\n",
            "       'original_glrlm_ShortRunLowGrayLevelEmphasis',\n",
            "       'original_glrlm_LongRunLowGrayLevelEmphasis',\n",
            "       'original_glrlm_LongRunHighGrayLevelEmphasis', 'Adenocarcinoma',\n",
            "       'Large cell', 'Squamous cell carcinoma', 'NOS', 'age', 'tumor_size'],\n",
            "      dtype='object')\n",
            "time: 6.22 s\n"
          ],
          "name": "stdout"
        }
      ]
    },
    {
      "cell_type": "code",
      "metadata": {
        "id": "jcm61ESk6dT7",
        "colab_type": "code",
        "outputId": "dbdfee3e-7da2-4d49-abbb-4c5704bd459b",
        "colab": {
          "base_uri": "https://localhost:8080/",
          "height": 121
        }
      },
      "source": [
        "from lifelines import CoxPHFitter\n",
        "#Cox\n",
        "X_train, X_val, Y_train, Y_val = train_test_split(nc_x_train, y_train, test_size=0.15)\n",
        "df_train = pd.concat([Y_train, X_train], axis = 1)\n",
        "cph = CoxPHFitter()\n",
        "cph.fit(df_train, duration_col='SurvivalTime', event_col='Event')\n",
        "\n",
        "prediction_val = round(cph.predict_expectation(X_val)).astype(int)\n",
        "print(\"C_index: \" +str(concordance_index(Y_val.SurvivalTime, prediction_val, Y_val.Event)))"
      ],
      "execution_count": 19,
      "outputs": [
        {
          "output_type": "stream",
          "text": [
            "C_index: 0.6342042755344418\n",
            "time: 89 ms\n"
          ],
          "name": "stdout"
        },
        {
          "output_type": "stream",
          "text": [
            "/usr/local/lib/python3.6/dist-packages/lifelines/utils/__init__.py:1086: ConvergenceWarning: Column(s) ['original_glrlm_ShortRunLowGrayLevelEmphasis'] have very low variance. This may harm convergence. Try dropping this redundant column before fitting if convergence fails.\n",
            "\n",
            "  warnings.warn(dedent(warning_text), ConvergenceWarning)\n"
          ],
          "name": "stderr"
        }
      ]
    },
    {
      "cell_type": "markdown",
      "metadata": {
        "id": "S0Vq16K9WC9u",
        "colab_type": "text"
      },
      "source": [
        "##Method 3: Random survival forest"
      ]
    },
    {
      "cell_type": "code",
      "metadata": {
        "id": "n7zNWMBkWISd",
        "colab_type": "code",
        "outputId": "6363f90a-9d57-4534-90e5-d58106ea513b",
        "colab": {
          "base_uri": "https://localhost:8080/",
          "height": 50
        }
      },
      "source": [
        "from pysurvival.models.survival_forest import RandomSurvivalForestModel\n",
        "\n",
        "n_tree = 200\n",
        "model = RandomSurvivalForestModel(num_trees = n_tree)\n",
        "X =  x_train\n",
        "E =  y_train.Event\n",
        "T = y_train.SurvivalTime\n",
        "model.fit(X, T, E)\n",
        "\n",
        "prct = 0.5\n",
        "surv_rsf = model.predict_survival(x_val)\n",
        "prediction_rsf = np.apply_along_axis(lambda x : model.times[np.argmax(x<prct)], 1, surv_rsf)\n",
        "prediction_rsf[prediction_rsf==model.times[0]] = 3500 #0 value put to max\n",
        "print(\"C_index :\" +str(concordance_index(y_val.SurvivalTime, prediction_rsf.astype(int), y_val.Event)))\n"
      ],
      "execution_count": 56,
      "outputs": [
        {
          "output_type": "stream",
          "text": [
            "C_index :0.7165178571428571\n",
            "time: 2.34 s\n"
          ],
          "name": "stdout"
        }
      ]
    },
    {
      "cell_type": "markdown",
      "metadata": {
        "id": "FVCg4BEF_tTO",
        "colab_type": "text"
      },
      "source": [
        "##Method 2: DeepSurv"
      ]
    },
    {
      "cell_type": "code",
      "metadata": {
        "id": "2zcdtZzfAGXq",
        "colab_type": "code",
        "colab": {
          "base_uri": "https://localhost:8080/",
          "height": 67
        },
        "outputId": "01078af2-fbed-47d0-acbc-13dd1cf68341"
      },
      "source": [
        "from pysurvival.models.semi_parametric import NonLinearCoxPHModel\n",
        "model = NonLinearCoxPHModel([ {'activation': 'ReLU', 'num_units': 128}, {'activation': 'ReLU', 'num_units': 128}], auto_scaler=True)\n",
        "\n",
        "X =  x_train\n",
        "E =  y_train.Event\n",
        "T = y_train.SurvivalTime\n",
        "model.fit(X, T, E, init_method = 'glorot_uniform', optimizer ='adam',lr = 1e-4, num_epochs = 200, dropout = 0.2, verbose=True, batch_normalization=True)\n",
        "\n",
        "prct = 1/2\n",
        "survival_pysurv = model.predict_survival(x_val)\n",
        "prediction_pysurv = np.apply_along_axis(lambda x : model.times[np.argmax(x<prct)], 1, survival_pysurv)\n",
        "prediction_pysurv[prediction_pysurv==model.times[0]] = 3500\n",
        "print(\"C_index: \" +str(concordance_index(y_val.SurvivalTime, prediction_pysurv.astype(int), y_val.Event)))"
      ],
      "execution_count": 54,
      "outputs": [
        {
          "output_type": "stream",
          "text": [
            ""
          ],
          "name": "stderr"
        },
        {
          "output_type": "stream",
          "text": [
            "C_index: 0.7180059523809523\n",
            "time: 1.74 s\n"
          ],
          "name": "stdout"
        },
        {
          "output_type": "stream",
          "text": [
            "\n"
          ],
          "name": "stderr"
        }
      ]
    },
    {
      "cell_type": "markdown",
      "metadata": {
        "id": "XDS_LYB1Q8aY",
        "colab_type": "text"
      },
      "source": [
        "#Selected Model : DeepSurv"
      ]
    },
    {
      "cell_type": "code",
      "metadata": {
        "id": "IFI5SvCWRA0i",
        "colab_type": "code",
        "colab": {
          "base_uri": "https://localhost:8080/",
          "height": 50
        },
        "outputId": "d055550a-e08d-464b-ea90-2b0b7f770cde"
      },
      "source": [
        "from pysurvival.models.semi_parametric import NonLinearCoxPHModel\n",
        "\n",
        "model = NonLinearCoxPHModel([ {'activation': 'ReLU', 'num_units': 128}, {'activation': 'ReLU', 'num_units': 128}], auto_scaler=True)\n",
        "#Format Data and fit\n",
        "E = Y0.Event\n",
        "T = Y0.SurvivalTime\n",
        "\n",
        "model.fit(X0, T, E, init_method = 'glorot_uniform', optimizer ='adam',lr = 1e-4, num_epochs = 200, dropout = 0.2, verbose=True, batch_normalization=True)\n",
        "#Predict\n",
        "prct = 1/2\n",
        "hazard = model.predict_survival(x_test)\n",
        "prediction = np.apply_along_axis(lambda x : model.times[np.argmax(x<prct)], 1, hazard)\n",
        "prediction[prediction==model.times[0]] = 3500\n",
        "#Write in CSV\n",
        "PatientID[\"SurvivalTime\"] = prediction.astype(int)\n",
        "PatientID[\"Event\"] = a = np.full(prediction.shape[0], np.nan)\n",
        "PatientID.to_csv (r'Prediction_final.csv', index = None, header=True)"
      ],
      "execution_count": 60,
      "outputs": [
        {
          "output_type": "stream",
          "text": [
            "\n"
          ],
          "name": "stderr"
        },
        {
          "output_type": "stream",
          "text": [
            "time: 2.23 s\n"
          ],
          "name": "stdout"
        }
      ]
    },
    {
      "cell_type": "code",
      "metadata": {
        "id": "Gkep8wZKTt1y",
        "colab_type": "code",
        "colab": {
          "base_uri": "https://localhost:8080/",
          "height": 418
        },
        "outputId": "cf3a81d5-9935-42da-c496-ca7e6edd2b70"
      },
      "source": [
        "PatientID"
      ],
      "execution_count": 61,
      "outputs": [
        {
          "output_type": "execute_result",
          "data": {
            "text/html": [
              "<div>\n",
              "<style scoped>\n",
              "    .dataframe tbody tr th:only-of-type {\n",
              "        vertical-align: middle;\n",
              "    }\n",
              "\n",
              "    .dataframe tbody tr th {\n",
              "        vertical-align: top;\n",
              "    }\n",
              "\n",
              "    .dataframe thead th {\n",
              "        text-align: right;\n",
              "    }\n",
              "</style>\n",
              "<table border=\"1\" class=\"dataframe\">\n",
              "  <thead>\n",
              "    <tr style=\"text-align: right;\">\n",
              "      <th></th>\n",
              "      <th>PatientID</th>\n",
              "      <th>SurvivalTime</th>\n",
              "      <th>Event</th>\n",
              "    </tr>\n",
              "  </thead>\n",
              "  <tbody>\n",
              "    <tr>\n",
              "      <th>0</th>\n",
              "      <td>13</td>\n",
              "      <td>209</td>\n",
              "      <td>NaN</td>\n",
              "    </tr>\n",
              "    <tr>\n",
              "      <th>1</th>\n",
              "      <td>155</td>\n",
              "      <td>1279</td>\n",
              "      <td>NaN</td>\n",
              "    </tr>\n",
              "    <tr>\n",
              "      <th>2</th>\n",
              "      <td>404</td>\n",
              "      <td>539</td>\n",
              "      <td>NaN</td>\n",
              "    </tr>\n",
              "    <tr>\n",
              "      <th>3</th>\n",
              "      <td>407</td>\n",
              "      <td>639</td>\n",
              "      <td>NaN</td>\n",
              "    </tr>\n",
              "    <tr>\n",
              "      <th>4</th>\n",
              "      <td>9</td>\n",
              "      <td>3500</td>\n",
              "      <td>NaN</td>\n",
              "    </tr>\n",
              "    <tr>\n",
              "      <th>...</th>\n",
              "      <td>...</td>\n",
              "      <td>...</td>\n",
              "      <td>...</td>\n",
              "    </tr>\n",
              "    <tr>\n",
              "      <th>120</th>\n",
              "      <td>66</td>\n",
              "      <td>257</td>\n",
              "      <td>NaN</td>\n",
              "    </tr>\n",
              "    <tr>\n",
              "      <th>121</th>\n",
              "      <td>132</td>\n",
              "      <td>375</td>\n",
              "      <td>NaN</td>\n",
              "    </tr>\n",
              "    <tr>\n",
              "      <th>122</th>\n",
              "      <td>169</td>\n",
              "      <td>3500</td>\n",
              "      <td>NaN</td>\n",
              "    </tr>\n",
              "    <tr>\n",
              "      <th>123</th>\n",
              "      <td>199</td>\n",
              "      <td>301</td>\n",
              "      <td>NaN</td>\n",
              "    </tr>\n",
              "    <tr>\n",
              "      <th>124</th>\n",
              "      <td>274</td>\n",
              "      <td>287</td>\n",
              "      <td>NaN</td>\n",
              "    </tr>\n",
              "  </tbody>\n",
              "</table>\n",
              "<p>125 rows × 3 columns</p>\n",
              "</div>"
            ],
            "text/plain": [
              "     PatientID  SurvivalTime  Event\n",
              "0           13           209    NaN\n",
              "1          155          1279    NaN\n",
              "2          404           539    NaN\n",
              "3          407           639    NaN\n",
              "4            9          3500    NaN\n",
              "..         ...           ...    ...\n",
              "120         66           257    NaN\n",
              "121        132           375    NaN\n",
              "122        169          3500    NaN\n",
              "123        199           301    NaN\n",
              "124        274           287    NaN\n",
              "\n",
              "[125 rows x 3 columns]"
            ]
          },
          "metadata": {
            "tags": []
          },
          "execution_count": 61
        },
        {
          "output_type": "stream",
          "text": [
            "time: 24.5 ms\n"
          ],
          "name": "stdout"
        }
      ]
    }
  ]
}