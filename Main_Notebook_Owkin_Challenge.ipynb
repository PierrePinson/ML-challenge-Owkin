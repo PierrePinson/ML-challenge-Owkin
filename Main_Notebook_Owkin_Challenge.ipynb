{
  "nbformat": 4,
  "nbformat_minor": 0,
  "metadata": {
    "colab": {
      "name": "Main Notebook Owkin Challenge.ipynb",
      "provenance": [],
      "collapsed_sections": [
        "rMfi6djK6NoJ",
        "TBf3ngBpwJKs",
        "FVCg4BEF_tTO",
        "S0Vq16K9WC9u",
        "RXAH2RmJ6WHl"
      ],
      "authorship_tag": "ABX9TyNoUoihQmsavQjZpGnt3rXR",
      "include_colab_link": true
    },
    "kernelspec": {
      "name": "python3",
      "display_name": "Python 3"
    },
    "accelerator": "GPU"
  },
  "cells": [
    {
      "cell_type": "markdown",
      "metadata": {
        "id": "view-in-github",
        "colab_type": "text"
      },
      "source": [
        "<a href=\"https://colab.research.google.com/github/PierrePinson/ML-challenge-Owkin/blob/master/Main_Notebook_Owkin_Challenge.ipynb\" target=\"_parent\"><img src=\"https://colab.research.google.com/assets/colab-badge.svg\" alt=\"Open In Colab\"/></a>"
      ]
    },
    {
      "cell_type": "code",
      "metadata": {
        "id": "jEwYF2QwqQHe",
        "colab_type": "code",
        "outputId": "fd27218c-9f55-42bf-b201-b86f39dd7c30",
        "colab": {
          "base_uri": "https://localhost:8080/",
          "height": 121
        }
      },
      "source": [
        "#give access to GDrive\n",
        "from google.colab import drive\n",
        "drive.mount('/content/gdrive/')"
      ],
      "execution_count": 1,
      "outputs": [
        {
          "output_type": "stream",
          "text": [
            "Go to this URL in a browser: https://accounts.google.com/o/oauth2/auth?client_id=947318989803-6bn6qk8qdgf4n4g3pfee6491hc0brc4i.apps.googleusercontent.com&redirect_uri=urn%3aietf%3awg%3aoauth%3a2.0%3aoob&response_type=code&scope=email%20https%3a%2f%2fwww.googleapis.com%2fauth%2fdocs.test%20https%3a%2f%2fwww.googleapis.com%2fauth%2fdrive%20https%3a%2f%2fwww.googleapis.com%2fauth%2fdrive.photos.readonly%20https%3a%2f%2fwww.googleapis.com%2fauth%2fpeopleapi.readonly\n",
            "\n",
            "Enter your authorization code:\n",
            "··········\n",
            "Mounted at /content/gdrive/\n"
          ],
          "name": "stdout"
        }
      ]
    },
    {
      "cell_type": "markdown",
      "metadata": {
        "id": "a7Az2BAJp3qF",
        "colab_type": "text"
      },
      "source": [
        "### Installs and imports"
      ]
    },
    {
      "cell_type": "code",
      "metadata": {
        "id": "phftTOgN6uh0",
        "colab_type": "code",
        "colab": {}
      },
      "source": [
        "#Clone git, might take a minute cause data is included\n",
        "#uncomment the lines below for first use\n",
        "#%cd /content/gdrive/My Drive/\n",
        "#! git clone https://github.com/PierrePinson/ML-challenge-Owkin.git\n",
        "\n",
        "%cd /content/gdrive/My Drive/ML-challenge-Owkin/\n",
        "!git pull #update custom modules\n",
        "\n",
        "!pip install lifelines\n",
        "!pip install random-survival-forest\n",
        "!pip install pysurvival\n",
        "!pip install lasagne\n",
        "!pip install --upgrade https://github.com/Theano/Theano/archive/master.zip\n",
        "!pip install --upgrade https://github.com/Lasagne/Lasagne/archive/master.zip\n",
        "#!git clone https://github.com/jaredleekatzman/DeepSurv.git\n",
        "\n",
        "#print time elapsed at each cell execution\n",
        "!pip install ipython-autotime\n",
        "%load_ext autotime \n",
        "\n",
        "%cd DeepSurv\n",
        "!pip install .\n",
        "%cd /content/gdrive/My Drive/ML-challenge-Owkin/"
      ],
      "execution_count": 0,
      "outputs": []
    },
    {
      "cell_type": "code",
      "metadata": {
        "id": "-Jyuq7_qm2cX",
        "colab_type": "code",
        "outputId": "e340d00c-5f9f-4a43-b952-085e3c24048c",
        "colab": {
          "base_uri": "https://localhost:8080/",
          "height": 34
        }
      },
      "source": [
        "import numpy as np\n",
        "import matplotlib.pyplot as plt\n",
        "import os\n",
        "import pandas as pd\n",
        "import extract_features as ef #module to extract features from dataset\n",
        "import lifelines #python library for survival analysis\n",
        "from importlib import reload #reload extract_features when changes are made in git\n",
        "from sklearn.model_selection import train_test_split\n",
        "from lifelines.utils import concordance_index\n",
        "import sys\n",
        "sys.path.append('/content/gdrive/My Drive/ML-challenge-Owkin/DeepSurv/deepsurv')\n",
        "import deep_surv\n",
        "from deepsurv_logger import DeepSurvLogger, TensorboardLogger\n",
        "import utils\n",
        "import viz\n",
        "import lasagne\n",
        "reload(ef)"
      ],
      "execution_count": 3,
      "outputs": [
        {
          "output_type": "execute_result",
          "data": {
            "text/plain": [
              "<module 'extract_features' from '/content/gdrive/My Drive/ML-challenge-Owkin/extract_features.py'>"
            ]
          },
          "metadata": {
            "tags": []
          },
          "execution_count": 3
        },
        {
          "output_type": "stream",
          "text": [
            "time: 708 ms\n"
          ],
          "name": "stdout"
        }
      ]
    },
    {
      "cell_type": "markdown",
      "metadata": {
        "id": "wQ6Ymv6vv8pb",
        "colab_type": "text"
      },
      "source": [
        "#Get data\n"
      ]
    },
    {
      "cell_type": "code",
      "metadata": {
        "id": "G2o3GAVRknwc",
        "colab_type": "code",
        "outputId": "5803a570-c792-4ba2-ce65-69254606923b",
        "colab": {
          "base_uri": "https://localhost:8080/",
          "height": 101
        }
      },
      "source": [
        "X = ef.extract_features('x_train/').drop(\"PatientID\", axis=1)\n",
        "Y = pd.read_csv('output_VSVxRFU.csv').drop(\"PatientID\", axis=1)\n",
        "#Split data in train and validation sets: \n",
        "x_train, x_val, y_train, y_val = train_test_split(X, Y, test_size=0.15)\n",
        "x_test = ef.extract_features('x_test/')\n",
        "PatientID = x_test.PatientID.to_frame()\n",
        "x_test = x_test.drop(\"PatientID\", axis=1)"
      ],
      "execution_count": 214,
      "outputs": [
        {
          "output_type": "stream",
          "text": [
            "/content/gdrive/My Drive/ML-challenge-Owkin/extract_features.py:17: SettingWithCopyWarning: \n",
            "A value is trying to be set on a copy of a slice from a DataFrame\n",
            "\n",
            "See the caveats in the documentation: http://pandas.pydata.org/pandas-docs/stable/user_guide/indexing.html#returning-a-view-versus-a-copy\n"
          ],
          "name": "stderr"
        },
        {
          "output_type": "stream",
          "text": [
            "time: 1.93 s\n"
          ],
          "name": "stdout"
        }
      ]
    },
    {
      "cell_type": "markdown",
      "metadata": {
        "id": "rMfi6djK6NoJ",
        "colab_type": "text"
      },
      "source": [
        "#Compare Models"
      ]
    },
    {
      "cell_type": "markdown",
      "metadata": {
        "id": "TBf3ngBpwJKs",
        "colab_type": "text"
      },
      "source": [
        "##Methode 1: Classic Random Forest"
      ]
    },
    {
      "cell_type": "code",
      "metadata": {
        "id": "m_R8S6WsqGuo",
        "colab_type": "code",
        "outputId": "9b413082-5cfc-4398-fb68-c8b2f995869a",
        "colab": {
          "base_uri": "https://localhost:8080/",
          "height": 34
        }
      },
      "source": [
        "#train\n",
        "from sklearn.ensemble import RandomForestClassifier\n",
        "clf = RandomForestClassifier()\n",
        "clf.fit(X_train, Y_train)\n",
        "\n",
        "rf_predictions = clf.predict(X_val)\n",
        "concordance_index(Y_val.SurvivalTime, rf_predictions[:,0], Y_val.Event)"
      ],
      "execution_count": 67,
      "outputs": [
        {
          "output_type": "execute_result",
          "data": {
            "text/plain": [
              "0.5971849865951743"
            ]
          },
          "metadata": {
            "tags": []
          },
          "execution_count": 67
        },
        {
          "output_type": "stream",
          "text": [
            "time: 955 ms\n"
          ],
          "name": "stdout"
        }
      ]
    },
    {
      "cell_type": "markdown",
      "metadata": {
        "id": "FVCg4BEF_tTO",
        "colab_type": "text"
      },
      "source": [
        "##Method 2: DeepSurv"
      ]
    },
    {
      "cell_type": "code",
      "metadata": {
        "id": "2zcdtZzfAGXq",
        "colab_type": "code",
        "colab": {
          "base_uri": "https://localhost:8080/",
          "height": 50
        },
        "outputId": "a403a2d0-102b-4505-d450-3eefc59f0e02"
      },
      "source": [
        "from pysurvival.models.semi_parametric import NonLinearCoxPHModel\n",
        "model = NonLinearCoxPHModel([ {'activation': 'ReLU', 'num_units': 128}, {'activation': 'ReLU', 'num_units': 128}], auto_scaler=True)\n",
        "model.times = np.arange(3500)\n",
        "X =  x_train\n",
        "E =  y_train.Event\n",
        "T = y_train.SurvivalTime\n",
        "model.fit(X, T, E, init_method = 'glorot_uniform', optimizer ='adam',lr = 1e-4, num_epochs = 200, dropout = 0.2, verbose=True, batch_normalization=True)\n",
        "\n",
        "prct = 1/2\n",
        "hazard_pysurv = model.predict_survival (x_val)\n",
        "prediction_pysurv = np.apply_along_axis(lambda x : model.times[np.argmax(x<prct)], 1, hazard_pysurv)\n",
        "prediction_pysurv[prediction_pysurv==model.times[0]] = 700\n",
        "concordance_index(y_val.SurvivalTime, prediction_pysurv.astype(int), y_val.Event)"
      ],
      "execution_count": 171,
      "outputs": [
        {
          "output_type": "stream",
          "text": [
            "\n"
          ],
          "name": "stderr"
        },
        {
          "output_type": "execute_result",
          "data": {
            "text/plain": [
              "0.6324655436447167"
            ]
          },
          "metadata": {
            "tags": []
          },
          "execution_count": 171
        },
        {
          "output_type": "stream",
          "text": [
            "time: 1.71 s\n"
          ],
          "name": "stdout"
        }
      ]
    },
    {
      "cell_type": "markdown",
      "metadata": {
        "id": "S0Vq16K9WC9u",
        "colab_type": "text"
      },
      "source": [
        "##Method 3: Random survival forest"
      ]
    },
    {
      "cell_type": "code",
      "metadata": {
        "id": "n7zNWMBkWISd",
        "colab_type": "code",
        "outputId": "8653c12d-40c8-4c30-e312-21fdc0166cfd",
        "colab": {
          "base_uri": "https://localhost:8080/",
          "height": 50
        }
      },
      "source": [
        "from pysurvival.models.survival_forest import RandomSurvivalForestModel\n",
        "\n",
        "n_tree = 200\n",
        "model = RandomSurvivalForestModel(num_trees = n_tree)\n",
        "X =  x_train\n",
        "E =  y_train.Event\n",
        "T = y_train.SurvivalTime\n",
        "model.fit(X, T, E)\n",
        "\n",
        "prct = 1/2\n",
        "hazard_rsf = model.predict_survival(x_val)\n",
        "prediction_rsf = np.apply_along_axis(lambda x : model.times[np.argmax(x<prct)], 1, hazard_rsf)\n",
        "prediction_rsf[prediction_rsf==model.times[0]] = 700\n",
        "print(\"C_index :\" +str(concordance_index(y_val.SurvivalTime, prediction_rsf.astype(int), y_val.Event)))\n"
      ],
      "execution_count": 207,
      "outputs": [
        {
          "output_type": "stream",
          "text": [
            "C_index :0.511938202247191\n",
            "time: 2.26 s\n"
          ],
          "name": "stdout"
        }
      ]
    },
    {
      "cell_type": "markdown",
      "metadata": {
        "id": "RXAH2RmJ6WHl",
        "colab_type": "text"
      },
      "source": [
        "## Method 4: Lifelines (Cox model)"
      ]
    },
    {
      "cell_type": "code",
      "metadata": {
        "id": "5uaS-pOD_MSH",
        "colab_type": "code",
        "outputId": "abf73159-58ed-4584-ccbc-050fb6fd64f1",
        "colab": {
          "base_uri": "https://localhost:8080/",
          "height": 252
        }
      },
      "source": [
        "#reduce number of feaure to avoid collinearities\n",
        "nc_x_train = ef.calculate_vif_(x_train, thresh=20) \n",
        "non_collinear_features = x_train.keys()\n",
        "##Other method : use PCA to reduce features\n",
        "#from sklearn.decomposition import PCA\n",
        "#n_components = 17 #empirical optimal value \n",
        "\n",
        "#pca = PCA(n_components=n_components)\n",
        "#pca.fit(x_train.T)\n",
        "#nc_x_train = pd.DataFrame(data = pca.components_.T)"
      ],
      "execution_count": 210,
      "outputs": [
        {
          "output_type": "stream",
          "text": [
            "Remaining variables:\n",
            "Index(['original_shape_Compactness2', 'original_shape_Maximum3DDiameter',\n",
            "       'original_shape_SurfaceVolumeRatio', 'original_firstorder_Energy',\n",
            "       'original_firstorder_Kurtosis', 'original_firstorder_Median',\n",
            "       'original_firstorder_Skewness', 'original_glcm_ClusterProminence',\n",
            "       'original_glcm_ClusterShade', 'original_glcm_Contrast',\n",
            "       'original_glcm_JointEnergy', 'original_glrlm_GrayLevelNonUniformity',\n",
            "       'original_glrlm_RunLengthNonUniformity',\n",
            "       'original_glrlm_ShortRunLowGrayLevelEmphasis',\n",
            "       'original_glrlm_LongRunLowGrayLevelEmphasis',\n",
            "       'original_glrlm_LongRunHighGrayLevelEmphasis', 'Adenocarcinoma',\n",
            "       'Large cell', 'Squamous cell carcinoma', 'NOS', 'age', 'tumor_size'],\n",
            "      dtype='object')\n",
            "time: 6.45 s\n"
          ],
          "name": "stdout"
        }
      ]
    },
    {
      "cell_type": "code",
      "metadata": {
        "id": "jcm61ESk6dT7",
        "colab_type": "code",
        "outputId": "e3561e01-5802-4e62-bb04-c2bae69d825b",
        "colab": {
          "base_uri": "https://localhost:8080/",
          "height": 121
        }
      },
      "source": [
        "from lifelines import CoxPHFitter\n",
        "#Cox\n",
        "X_train, X_val, Y_train, Y_val = train_test_split(nc_x_train, y_train, test_size=0.15)\n",
        "df_train = pd.concat([Y_train, X_train], axis = 1)\n",
        "cph = CoxPHFitter()\n",
        "cph.fit(df_train, duration_col='SurvivalTime', event_col='Event')\n",
        "\n",
        "prediction_val = round(cph.predict_expectation(X_val)).astype(int)\n",
        "print(\"C_index: \" +str(concordance_index(Y_val.SurvivalTime, prediction_val, Y_val.Event)))"
      ],
      "execution_count": 212,
      "outputs": [
        {
          "output_type": "stream",
          "text": [
            "C_index: 0.5983772819472617\n",
            "time: 97.5 ms\n"
          ],
          "name": "stdout"
        },
        {
          "output_type": "stream",
          "text": [
            "/usr/local/lib/python3.6/dist-packages/lifelines/utils/__init__.py:1086: ConvergenceWarning: Column(s) ['original_glrlm_ShortRunLowGrayLevelEmphasis'] have very low variance. This may harm convergence. Try dropping this redundant column before fitting if convergence fails.\n",
            "\n",
            "  warnings.warn(dedent(warning_text), ConvergenceWarning)\n"
          ],
          "name": "stderr"
        }
      ]
    },
    {
      "cell_type": "markdown",
      "metadata": {
        "id": "XDS_LYB1Q8aY",
        "colab_type": "text"
      },
      "source": [
        "#Selected Model : DeepSurv"
      ]
    },
    {
      "cell_type": "code",
      "metadata": {
        "id": "IFI5SvCWRA0i",
        "colab_type": "code",
        "colab": {
          "base_uri": "https://localhost:8080/",
          "height": 50
        },
        "outputId": "6b1fa597-edf0-40d9-88b2-49927b9f58f7"
      },
      "source": [
        "from pysurvival.models.semi_parametric import NonLinearCoxPHModel\n",
        "\n",
        "model = NonLinearCoxPHModel([ {'activation': 'ReLU', 'num_units': 128}, {'activation': 'ReLU', 'num_units': 128}], auto_scaler=True)\n",
        "#Format Data and fit\n",
        "E = Y.Event\n",
        "T = Y.SurvivalTime\n",
        "\n",
        "model.fit(X, T, E, init_method = 'glorot_uniform', optimizer ='adam',lr = 1e-4, num_epochs = 200, dropout = 0.2, verbose=True, batch_normalization=True)\n",
        "#Predict\n",
        "prct = 1/2\n",
        "hazard = model.predict_survival(x_test)\n",
        "prediction = np.apply_along_axis(lambda x : model.times[np.argmax(x<prct)], 1, hazard)\n",
        "prediction[prediction==model.times[0]] = 700\n",
        "#Write in CSV\n",
        "PatientID[\"SurvivalTime\"] = prediction.astype(int)\n",
        "PatientID[\"Event\"] = a = np.full(prediction.shape[0], np.nan)\n",
        "PatientID.to_csv (r'Prediction_final.csv', index = None, header=True)"
      ],
      "execution_count": 215,
      "outputs": [
        {
          "output_type": "stream",
          "text": [
            "\n"
          ],
          "name": "stderr"
        },
        {
          "output_type": "stream",
          "text": [
            "time: 1.85 s\n"
          ],
          "name": "stdout"
        }
      ]
    },
    {
      "cell_type": "code",
      "metadata": {
        "id": "Gkep8wZKTt1y",
        "colab_type": "code",
        "colab": {
          "base_uri": "https://localhost:8080/",
          "height": 418
        },
        "outputId": "bbb80d56-33f5-4290-cbff-a7b8c776dc15"
      },
      "source": [
        "PatientID"
      ],
      "execution_count": 201,
      "outputs": [
        {
          "output_type": "execute_result",
          "data": {
            "text/html": [
              "<div>\n",
              "<style scoped>\n",
              "    .dataframe tbody tr th:only-of-type {\n",
              "        vertical-align: middle;\n",
              "    }\n",
              "\n",
              "    .dataframe tbody tr th {\n",
              "        vertical-align: top;\n",
              "    }\n",
              "\n",
              "    .dataframe thead th {\n",
              "        text-align: right;\n",
              "    }\n",
              "</style>\n",
              "<table border=\"1\" class=\"dataframe\">\n",
              "  <thead>\n",
              "    <tr style=\"text-align: right;\">\n",
              "      <th></th>\n",
              "      <th>PatientID</th>\n",
              "      <th>SurvivalTime</th>\n",
              "      <th>Event</th>\n",
              "    </tr>\n",
              "  </thead>\n",
              "  <tbody>\n",
              "    <tr>\n",
              "      <th>0</th>\n",
              "      <td>13</td>\n",
              "      <td>303</td>\n",
              "      <td>NaN</td>\n",
              "    </tr>\n",
              "    <tr>\n",
              "      <th>1</th>\n",
              "      <td>155</td>\n",
              "      <td>700</td>\n",
              "      <td>NaN</td>\n",
              "    </tr>\n",
              "    <tr>\n",
              "      <th>2</th>\n",
              "      <td>404</td>\n",
              "      <td>508</td>\n",
              "      <td>NaN</td>\n",
              "    </tr>\n",
              "    <tr>\n",
              "      <th>3</th>\n",
              "      <td>407</td>\n",
              "      <td>632</td>\n",
              "      <td>NaN</td>\n",
              "    </tr>\n",
              "    <tr>\n",
              "      <th>4</th>\n",
              "      <td>9</td>\n",
              "      <td>700</td>\n",
              "      <td>NaN</td>\n",
              "    </tr>\n",
              "    <tr>\n",
              "      <th>...</th>\n",
              "      <td>...</td>\n",
              "      <td>...</td>\n",
              "      <td>...</td>\n",
              "    </tr>\n",
              "    <tr>\n",
              "      <th>120</th>\n",
              "      <td>66</td>\n",
              "      <td>493</td>\n",
              "      <td>NaN</td>\n",
              "    </tr>\n",
              "    <tr>\n",
              "      <th>121</th>\n",
              "      <td>132</td>\n",
              "      <td>377</td>\n",
              "      <td>NaN</td>\n",
              "    </tr>\n",
              "    <tr>\n",
              "      <th>122</th>\n",
              "      <td>169</td>\n",
              "      <td>700</td>\n",
              "      <td>NaN</td>\n",
              "    </tr>\n",
              "    <tr>\n",
              "      <th>123</th>\n",
              "      <td>199</td>\n",
              "      <td>575</td>\n",
              "      <td>NaN</td>\n",
              "    </tr>\n",
              "    <tr>\n",
              "      <th>124</th>\n",
              "      <td>274</td>\n",
              "      <td>409</td>\n",
              "      <td>NaN</td>\n",
              "    </tr>\n",
              "  </tbody>\n",
              "</table>\n",
              "<p>125 rows × 3 columns</p>\n",
              "</div>"
            ],
            "text/plain": [
              "     PatientID  SurvivalTime  Event\n",
              "0           13           303    NaN\n",
              "1          155           700    NaN\n",
              "2          404           508    NaN\n",
              "3          407           632    NaN\n",
              "4            9           700    NaN\n",
              "..         ...           ...    ...\n",
              "120         66           493    NaN\n",
              "121        132           377    NaN\n",
              "122        169           700    NaN\n",
              "123        199           575    NaN\n",
              "124        274           409    NaN\n",
              "\n",
              "[125 rows x 3 columns]"
            ]
          },
          "metadata": {
            "tags": []
          },
          "execution_count": 201
        },
        {
          "output_type": "stream",
          "text": [
            "time: 26.6 ms\n"
          ],
          "name": "stdout"
        }
      ]
    }
  ]
}